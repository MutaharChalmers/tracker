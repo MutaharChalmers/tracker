{
 "cells": [
  {
   "cell_type": "markdown",
   "id": "e1a3521f-f857-4536-966b-3651af953dfc",
   "metadata": {},
   "source": [
    "# Tropical Cyclone Kernel Resampler (Tracker)\n",
    "Tracker is an experimental Python package allowing the user to simulate synthetic Tropical Cyclone (TC) tracks using a simple statistical model fitted to historic IBTrACS data. The method is similar to various autoregressive track simulation algorithms in the literature, but is arguably simpler since it makes very few parametric assumptions, most of which can be changed. The core idea is to create a coarse grid over the ocean and for each cell use Kernel Density Estimation (KDE) to model the joint distribution of latitude, longitude and central pressure at times $t-1$, $t$ and $t+1$. Given values of latitude, longitude and central pressure at times $t-1$ and $t$, the simulation algorithm takes a conditional sample of the values at time $t+1$ from the 'current' (time $t$) cell KDE model.\n",
    "\n",
    "Some additional features:\n",
    "- Includes Sea Surface Temperature (SST) at the current grid cell as an additional predictor; a function is included to download ERSSTv5 SST data from NOAA\n",
    "- Includes a monthly ENSO feature as a predictor; either ONI or RONI, downloaded from NOAA, can be used\n",
    "\n",
    "Having ENSO and SST as predictors allows some interesting experiments to be performed:\n",
    "- simple counterfactual analysis - re-run ensembles for historical years under different ENSO or SST states\n",
    "- stochastic set generation - when combined with a TC genesis model, this track model can be used to generate a stochastic track set. A future refinement could be to add on a simple wind field model, based on the modelled central pressure\n",
    "- seasonal forecast stochastic set - when combined with a genesis forecast model and seasonal forecasts of SSTs, the model can be used to generate a dynamic stochastic set, conditional on the forecast SSTs, turning predicted basin counts into landfalling frequencies\n",
    "\n",
    "Potential future refinements:\n",
    "- Add Z500 field (geopotential height at 500 hPa) as a predictor - can try to use it to estimate steering winds\n",
    "- Add vertical wind shear field\n",
    "\n",
    "Note that as the dimensionality of the joint distribution increases, reliable KDE fitting becomes more difficult, and dimensional reduction techniques may need to be introduced."
   ]
  },
  {
   "cell_type": "code",
   "execution_count": 1,
   "id": "f202f659-975a-4ab0-93d1-3c1d1bf262db",
   "metadata": {},
   "outputs": [
    {
     "ename": "ModuleNotFoundError",
     "evalue": "No module named 'tracker'",
     "output_type": "error",
     "traceback": [
      "\u001b[0;31m---------------------------------------------------------------------------\u001b[0m",
      "\u001b[0;31mModuleNotFoundError\u001b[0m                       Traceback (most recent call last)",
      "Cell \u001b[0;32mIn[1], line 3\u001b[0m\n\u001b[1;32m      1\u001b[0m \u001b[38;5;28;01mimport\u001b[39;00m \u001b[38;5;21;01mnumpy\u001b[39;00m \u001b[38;5;28;01mas\u001b[39;00m \u001b[38;5;21;01mnp\u001b[39;00m\n\u001b[1;32m      2\u001b[0m \u001b[38;5;28;01mimport\u001b[39;00m \u001b[38;5;21;01mmatplotlib\u001b[39;00m\u001b[38;5;21;01m.\u001b[39;00m\u001b[38;5;21;01mpyplot\u001b[39;00m \u001b[38;5;28;01mas\u001b[39;00m \u001b[38;5;21;01mplt\u001b[39;00m\n\u001b[0;32m----> 3\u001b[0m \u001b[38;5;28;01mfrom\u001b[39;00m \u001b[38;5;21;01mtracker\u001b[39;00m \u001b[38;5;28;01mimport\u001b[39;00m Tracker, ERSSTv5\n",
      "\u001b[0;31mModuleNotFoundError\u001b[0m: No module named 'tracker'"
     ]
    }
   ],
   "source": [
    "import numpy as np\n",
    "import matplotlib.pyplot as plt\n",
    "from tracker import Tracker, ERSSTv5"
   ]
  },
  {
   "cell_type": "markdown",
   "id": "6b25a971-ca28-4583-b8bd-721084593d03",
   "metadata": {},
   "source": [
    "### Use the model to download historic TC, SST and ENSO data"
   ]
  },
  {
   "cell_type": "markdown",
   "id": "d7d21f52-6f76-4146-b74f-97241adc81c6",
   "metadata": {},
   "source": [
    "Instantiate `Tracker` object:"
   ]
  },
  {
   "cell_type": "code",
   "execution_count": null,
   "id": "a8655f60-a4cb-47a2-b480-4ba644b60126",
   "metadata": {},
   "outputs": [],
   "source": [
    "tr = Tracker()"
   ]
  },
  {
   "cell_type": "markdown",
   "id": "f1907d0a-f4d3-4c99-9326-f9cd9d9ac730",
   "metadata": {},
   "source": [
    "Examine various default attributes:"
   ]
  },
  {
   "cell_type": "code",
   "execution_count": null,
   "id": "996a6028-e0e7-417c-a525-26ccdb1abd08",
   "metadata": {},
   "outputs": [],
   "source": [
    "tr.basins"
   ]
  },
  {
   "cell_type": "code",
   "execution_count": null,
   "id": "58f4e617-6339-43db-bf3c-961f957fefbb",
   "metadata": {},
   "outputs": [],
   "source": [
    "tr.basin_bounds"
   ]
  },
  {
   "cell_type": "code",
   "execution_count": null,
   "id": "a6bd38f9-e82b-4720-b036-b64ee94b4d56",
   "metadata": {},
   "outputs": [],
   "source": [
    "tr.agencies"
   ]
  },
  {
   "cell_type": "markdown",
   "id": "780e9e84-1611-4d50-94d0-34d38a8dee6d",
   "metadata": {},
   "source": [
    "Agency map specifies which pressure field to use for each basin."
   ]
  },
  {
   "cell_type": "code",
   "execution_count": null,
   "id": "255e3981-0204-4a7f-8644-601791c8bf4c",
   "metadata": {},
   "outputs": [],
   "source": [
    "tr.agency_map"
   ]
  },
  {
   "cell_type": "markdown",
   "id": "9beba1ad-6954-418a-9d47-6b612c33cbe5",
   "metadata": {},
   "source": [
    "Use the object to download the latest versions of various datasets:"
   ]
  },
  {
   "cell_type": "code",
   "execution_count": null,
   "id": "00ad6820-b2d6-4370-ba29-024cad6948b4",
   "metadata": {},
   "outputs": [],
   "source": [
    "#for basin in tr.basins:\n",
    "#    tr.get_ibtracs(basin, tr.agency_map[basin])"
   ]
  },
  {
   "cell_type": "markdown",
   "id": "9a52ec45-b0b6-469c-b0cc-ff34ac9de165",
   "metadata": {},
   "source": [
    "Download the latest ENSO indices:"
   ]
  },
  {
   "cell_type": "code",
   "execution_count": null,
   "id": "a640e0e9-df2b-4aea-bb8f-9aa610607e09",
   "metadata": {},
   "outputs": [],
   "source": [
    "#tr.get_oni()\n",
    "#tr.get_roni()"
   ]
  },
  {
   "cell_type": "markdown",
   "id": "9b800c63-afc2-4fed-999f-682467aa620f",
   "metadata": {},
   "source": [
    "Since SSTs take longer to download, we only show the code used to download them, but use data downloaded previously:"
   ]
  },
  {
   "cell_type": "code",
   "execution_count": null,
   "id": "dbcf98e1-b64e-403f-b9b9-132b67fb1c68",
   "metadata": {},
   "outputs": [],
   "source": [
    "#ersstv5 = ERSSTv5()\n",
    "#ersstv5.download('../data/ersstv5/', year_range=(1950, 2024))"
   ]
  },
  {
   "cell_type": "markdown",
   "id": "08c38b0f-a7ac-4bdc-8d21-4ac51ba14ed0",
   "metadata": {},
   "source": [
    "Load the previously-downloaded data from disk:"
   ]
  },
  {
   "cell_type": "code",
   "execution_count": null,
   "id": "b5784a6f-0eb1-4b0a-a37f-a89dfb64137d",
   "metadata": {},
   "outputs": [],
   "source": [
    "for basin in tr.basins:\n",
    "    tr.load_ibtracs(basin, tr.agency_map[basin])\n",
    "tr.load_SSTs(year_range=(1950, 2024))\n",
    "tr.load_roni()"
   ]
  },
  {
   "cell_type": "markdown",
   "id": "3d8397a2-0cb4-4a28-8ce7-c187081ef2e3",
   "metadata": {},
   "source": [
    "### Preprocess data"
   ]
  },
  {
   "cell_type": "markdown",
   "id": "cba71ac7-a48d-460e-920e-6a40d96a231e",
   "metadata": {},
   "source": [
    "Having loaded the data, assemble the design matrix used to fit the models:"
   ]
  },
  {
   "cell_type": "code",
   "execution_count": 11,
   "id": "538140ca-7449-4e7e-8b34-102badab3634",
   "metadata": {},
   "outputs": [
    {
     "data": {
      "application/vnd.jupyter.widget-view+json": {
       "model_id": "fc3fdbf9fbf24c47821430ec5c45fa58",
       "version_major": 2,
       "version_minor": 0
      },
      "text/plain": [
       "  0%|          | 0/1180 [00:00<?, ?it/s]"
      ]
     },
     "metadata": {},
     "output_type": "display_data"
    },
    {
     "data": {
      "application/vnd.jupyter.widget-view+json": {
       "model_id": "7582f015e1064f90ad8b379eb83d4f14",
       "version_major": 2,
       "version_minor": 0
      },
      "text/plain": [
       "  0%|          | 0/2632 [00:00<?, ?it/s]"
      ]
     },
     "metadata": {},
     "output_type": "display_data"
    },
    {
     "data": {
      "text/html": [
       "<div>\n",
       "<style scoped>\n",
       "    .dataframe tbody tr th:only-of-type {\n",
       "        vertical-align: middle;\n",
       "    }\n",
       "\n",
       "    .dataframe tbody tr th {\n",
       "        vertical-align: top;\n",
       "    }\n",
       "\n",
       "    .dataframe thead th {\n",
       "        text-align: right;\n",
       "    }\n",
       "</style>\n",
       "<table border=\"1\" class=\"dataframe\">\n",
       "  <thead>\n",
       "    <tr style=\"text-align: right;\">\n",
       "      <th></th>\n",
       "      <th>roni</th>\n",
       "      <th>sst</th>\n",
       "      <th>LON-1</th>\n",
       "      <th>LAT-1</th>\n",
       "      <th>USA_PRES-1</th>\n",
       "      <th>LON</th>\n",
       "      <th>LAT</th>\n",
       "      <th>USA_PRES</th>\n",
       "      <th>LON+1</th>\n",
       "      <th>LAT+1</th>\n",
       "      <th>USA_PRES+1</th>\n",
       "    </tr>\n",
       "  </thead>\n",
       "  <tbody>\n",
       "    <tr>\n",
       "      <th>0</th>\n",
       "      <td>-0.419998</td>\n",
       "      <td>27.884710</td>\n",
       "      <td>-63.2</td>\n",
       "      <td>22.0</td>\n",
       "      <td>997.0</td>\n",
       "      <td>-63.5</td>\n",
       "      <td>22.4</td>\n",
       "      <td>996.0</td>\n",
       "      <td>-63.8</td>\n",
       "      <td>22.7</td>\n",
       "      <td>995.0</td>\n",
       "    </tr>\n",
       "    <tr>\n",
       "      <th>1</th>\n",
       "      <td>-0.419987</td>\n",
       "      <td>27.884834</td>\n",
       "      <td>-63.5</td>\n",
       "      <td>22.4</td>\n",
       "      <td>996.0</td>\n",
       "      <td>-63.8</td>\n",
       "      <td>22.7</td>\n",
       "      <td>995.0</td>\n",
       "      <td>-64.2</td>\n",
       "      <td>22.9</td>\n",
       "      <td>995.0</td>\n",
       "    </tr>\n",
       "    <tr>\n",
       "      <th>2</th>\n",
       "      <td>-0.420000</td>\n",
       "      <td>27.884824</td>\n",
       "      <td>-63.8</td>\n",
       "      <td>22.7</td>\n",
       "      <td>995.0</td>\n",
       "      <td>-64.2</td>\n",
       "      <td>22.9</td>\n",
       "      <td>995.0</td>\n",
       "      <td>-64.6</td>\n",
       "      <td>23.1</td>\n",
       "      <td>995.0</td>\n",
       "    </tr>\n",
       "    <tr>\n",
       "      <th>3</th>\n",
       "      <td>-0.419943</td>\n",
       "      <td>28.036481</td>\n",
       "      <td>-64.2</td>\n",
       "      <td>22.9</td>\n",
       "      <td>995.0</td>\n",
       "      <td>-64.6</td>\n",
       "      <td>23.1</td>\n",
       "      <td>995.0</td>\n",
       "      <td>-65.0</td>\n",
       "      <td>23.2</td>\n",
       "      <td>995.0</td>\n",
       "    </tr>\n",
       "    <tr>\n",
       "      <th>4</th>\n",
       "      <td>-0.420176</td>\n",
       "      <td>28.036538</td>\n",
       "      <td>-64.6</td>\n",
       "      <td>23.1</td>\n",
       "      <td>995.0</td>\n",
       "      <td>-65.0</td>\n",
       "      <td>23.2</td>\n",
       "      <td>995.0</td>\n",
       "      <td>-65.4</td>\n",
       "      <td>23.4</td>\n",
       "      <td>995.0</td>\n",
       "    </tr>\n",
       "    <tr>\n",
       "      <th>...</th>\n",
       "      <td>...</td>\n",
       "      <td>...</td>\n",
       "      <td>...</td>\n",
       "      <td>...</td>\n",
       "      <td>...</td>\n",
       "      <td>...</td>\n",
       "      <td>...</td>\n",
       "      <td>...</td>\n",
       "      <td>...</td>\n",
       "      <td>...</td>\n",
       "      <td>...</td>\n",
       "    </tr>\n",
       "    <tr>\n",
       "      <th>31633</th>\n",
       "      <td>-0.810074</td>\n",
       "      <td>0.000027</td>\n",
       "      <td>-87.1</td>\n",
       "      <td>16.4</td>\n",
       "      <td>1000.0</td>\n",
       "      <td>-87.3</td>\n",
       "      <td>16.4</td>\n",
       "      <td>1001.0</td>\n",
       "      <td>-87.5</td>\n",
       "      <td>16.5</td>\n",
       "      <td>1001.0</td>\n",
       "    </tr>\n",
       "    <tr>\n",
       "      <th>31634</th>\n",
       "      <td>-0.810164</td>\n",
       "      <td>0.000138</td>\n",
       "      <td>-87.3</td>\n",
       "      <td>16.4</td>\n",
       "      <td>1001.0</td>\n",
       "      <td>-87.5</td>\n",
       "      <td>16.5</td>\n",
       "      <td>1001.0</td>\n",
       "      <td>-87.6</td>\n",
       "      <td>16.6</td>\n",
       "      <td>1001.0</td>\n",
       "    </tr>\n",
       "    <tr>\n",
       "      <th>31635</th>\n",
       "      <td>-0.810021</td>\n",
       "      <td>0.000019</td>\n",
       "      <td>-87.5</td>\n",
       "      <td>16.5</td>\n",
       "      <td>1001.0</td>\n",
       "      <td>-87.6</td>\n",
       "      <td>16.6</td>\n",
       "      <td>1001.0</td>\n",
       "      <td>-87.9</td>\n",
       "      <td>16.8</td>\n",
       "      <td>1001.0</td>\n",
       "    </tr>\n",
       "    <tr>\n",
       "      <th>31636</th>\n",
       "      <td>-0.810026</td>\n",
       "      <td>0.000089</td>\n",
       "      <td>-88.5</td>\n",
       "      <td>17.1</td>\n",
       "      <td>1001.0</td>\n",
       "      <td>-89.1</td>\n",
       "      <td>17.4</td>\n",
       "      <td>1003.0</td>\n",
       "      <td>-89.7</td>\n",
       "      <td>17.7</td>\n",
       "      <td>1004.0</td>\n",
       "    </tr>\n",
       "    <tr>\n",
       "      <th>31637</th>\n",
       "      <td>-0.809853</td>\n",
       "      <td>-0.000081</td>\n",
       "      <td>-89.1</td>\n",
       "      <td>17.4</td>\n",
       "      <td>1003.0</td>\n",
       "      <td>-89.7</td>\n",
       "      <td>17.7</td>\n",
       "      <td>1004.0</td>\n",
       "      <td>-90.2</td>\n",
       "      <td>17.9</td>\n",
       "      <td>1004.0</td>\n",
       "    </tr>\n",
       "  </tbody>\n",
       "</table>\n",
       "<p>31638 rows × 11 columns</p>\n",
       "</div>"
      ],
      "text/plain": [
       "           roni        sst  LON-1  LAT-1  USA_PRES-1   LON   LAT  USA_PRES  \\\n",
       "0     -0.419998  27.884710  -63.2   22.0       997.0 -63.5  22.4     996.0   \n",
       "1     -0.419987  27.884834  -63.5   22.4       996.0 -63.8  22.7     995.0   \n",
       "2     -0.420000  27.884824  -63.8   22.7       995.0 -64.2  22.9     995.0   \n",
       "3     -0.419943  28.036481  -64.2   22.9       995.0 -64.6  23.1     995.0   \n",
       "4     -0.420176  28.036538  -64.6   23.1       995.0 -65.0  23.2     995.0   \n",
       "...         ...        ...    ...    ...         ...   ...   ...       ...   \n",
       "31633 -0.810074   0.000027  -87.1   16.4      1000.0 -87.3  16.4    1001.0   \n",
       "31634 -0.810164   0.000138  -87.3   16.4      1001.0 -87.5  16.5    1001.0   \n",
       "31635 -0.810021   0.000019  -87.5   16.5      1001.0 -87.6  16.6    1001.0   \n",
       "31636 -0.810026   0.000089  -88.5   17.1      1001.0 -89.1  17.4    1003.0   \n",
       "31637 -0.809853  -0.000081  -89.1   17.4      1003.0 -89.7  17.7    1004.0   \n",
       "\n",
       "       LON+1  LAT+1  USA_PRES+1  \n",
       "0      -63.8   22.7       995.0  \n",
       "1      -64.2   22.9       995.0  \n",
       "2      -64.6   23.1       995.0  \n",
       "3      -65.0   23.2       995.0  \n",
       "4      -65.4   23.4       995.0  \n",
       "...      ...    ...         ...  \n",
       "31633  -87.5   16.5      1001.0  \n",
       "31634  -87.6   16.6      1001.0  \n",
       "31635  -87.9   16.8      1001.0  \n",
       "31636  -89.7   17.7      1004.0  \n",
       "31637  -90.2   17.9      1004.0  \n",
       "\n",
       "[31638 rows x 11 columns]"
      ]
     },
     "execution_count": 11,
     "metadata": {},
     "output_type": "execute_result"
    }
   ],
   "source": [
    "Xs = {}\n",
    "for basin in ['NA','WP']:\n",
    "    Xs[basin] = tr.make_design_matrix(basin, (1950,2024))\n",
    "\n",
    "Xs['NA']"
   ]
  },
  {
   "cell_type": "markdown",
   "id": "524aa30c-8b2f-4cb3-9bde-4ed632a8ee84",
   "metadata": {},
   "source": [
    "### Fit KDE autoregressive models"
   ]
  },
  {
   "cell_type": "markdown",
   "id": "6d428e7a-2f15-44e6-b7b4-bbe4edab64e8",
   "metadata": {},
   "source": [
    "Now fit one basin's KDE models:"
   ]
  },
  {
   "cell_type": "code",
   "execution_count": 12,
   "id": "87d5f062-6c60-4dd5-9021-6a5a04a9db04",
   "metadata": {},
   "outputs": [
    {
     "data": {
      "application/vnd.jupyter.widget-view+json": {
       "model_id": "0a6a932144ef415791445bb0a9200401",
       "version_major": 2,
       "version_minor": 0
      },
      "text/plain": [
       "  0%|          | 0/800 [00:00<?, ?it/s]"
      ]
     },
     "metadata": {},
     "output_type": "display_data"
    }
   ],
   "source": [
    "basin = 'NA'\n",
    "_ = tr.fit(Xs[basin], basin=basin)"
   ]
  },
  {
   "cell_type": "markdown",
   "id": "c80f3726-e098-4ac7-9991-26109aa214cd",
   "metadata": {},
   "source": [
    "Visualise the grid - green cells have fitted models, red cells are those for which no models have been fit due to insufficient data:"
   ]
  },
  {
   "cell_type": "code",
   "execution_count": 13,
   "id": "42cdb669-999c-4cb0-9994-876877cec748",
   "metadata": {},
   "outputs": [
    {
     "data": {
      "image/png": "[encoded data removed]",
      "text/plain": [
       "<Figure size 1200x600 with 1 Axes>"
      ]
     },
     "metadata": {},
     "output_type": "display_data"
    }
   ],
   "source": [
    "fig = tr.plot_grid(figsize=(12,6))"
   ]
  },
  {
   "cell_type": "markdown",
   "id": "da969eb8-6c15-46e8-ae10-99dd4fa0b812",
   "metadata": {},
   "source": [
    "### Generate synthetic tracks"
   ]
  },
  {
   "cell_type": "markdown",
   "id": "4bf1837e-7256-4196-aacb-65824099b389",
   "metadata": {},
   "source": [
    "#### Resimulate a historic track"
   ]
  },
  {
   "cell_type": "markdown",
   "id": "1614e145-19cb-437d-8f49-3d8674791e8a",
   "metadata": {},
   "source": [
    "Choose a historic hurricane in a basin and get its `SID`:"
   ]
  },
  {
   "cell_type": "code",
   "execution_count": 14,
   "id": "c29ea784-fd4f-475b-9623-0bae14a8f49c",
   "metadata": {},
   "outputs": [
    {
     "data": {
      "text/html": [
       "<div>\n",
       "<style scoped>\n",
       "    .dataframe tbody tr th:only-of-type {\n",
       "        vertical-align: middle;\n",
       "    }\n",
       "\n",
       "    .dataframe tbody tr th {\n",
       "        vertical-align: top;\n",
       "    }\n",
       "\n",
       "    .dataframe thead th {\n",
       "        text-align: right;\n",
       "    }\n",
       "</style>\n",
       "<table border=\"1\" class=\"dataframe\">\n",
       "  <thead>\n",
       "    <tr style=\"text-align: right;\">\n",
       "      <th></th>\n",
       "      <th>SID</th>\n",
       "      <th>SEASON</th>\n",
       "      <th>NAME</th>\n",
       "      <th>ISO_TIME</th>\n",
       "      <th>NATURE</th>\n",
       "      <th>LAT</th>\n",
       "      <th>LON</th>\n",
       "      <th>USA_PRES</th>\n",
       "      <th>qid</th>\n",
       "      <th>year</th>\n",
       "      <th>month</th>\n",
       "    </tr>\n",
       "  </thead>\n",
       "  <tbody>\n",
       "    <tr>\n",
       "      <th>94491</th>\n",
       "      <td>1992230N11325</td>\n",
       "      <td>1992</td>\n",
       "      <td>ANDREW</td>\n",
       "      <td>1992-08-16 18:00:00</td>\n",
       "      <td>TS</td>\n",
       "      <td>10.8</td>\n",
       "      <td>-35.5</td>\n",
       "      <td>1010.0</td>\n",
       "      <td>32461</td>\n",
       "      <td>1992</td>\n",
       "      <td>8</td>\n",
       "    </tr>\n",
       "    <tr>\n",
       "      <th>94492</th>\n",
       "      <td>1992230N11325</td>\n",
       "      <td>1992</td>\n",
       "      <td>ANDREW</td>\n",
       "      <td>1992-08-16 21:00:00</td>\n",
       "      <td>TS</td>\n",
       "      <td>11.0</td>\n",
       "      <td>-36.4</td>\n",
       "      <td>1010.0</td>\n",
       "      <td>32456</td>\n",
       "      <td>1992</td>\n",
       "      <td>8</td>\n",
       "    </tr>\n",
       "  </tbody>\n",
       "</table>\n",
       "</div>"
      ],
      "text/plain": [
       "                 SID  SEASON    NAME            ISO_TIME NATURE   LAT   LON  \\\n",
       "94491  1992230N11325    1992  ANDREW 1992-08-16 18:00:00     TS  10.8 -35.5   \n",
       "94492  1992230N11325    1992  ANDREW 1992-08-16 21:00:00     TS  11.0 -36.4   \n",
       "\n",
       "       USA_PRES    qid  year  month  \n",
       "94491    1010.0  32461  1992      8  \n",
       "94492    1010.0  32456  1992      8  "
      ]
     },
     "execution_count": 14,
     "metadata": {},
     "output_type": "execute_result"
    }
   ],
   "source": [
    "tr.ibtracs[basin][(tr.ibtracs[basin]['NAME']=='ANDREW')&(tr.ibtracs[basin]['year']==1992)].head(2)"
   ]
  },
  {
   "cell_type": "markdown",
   "id": "661f9637-3636-4e3c-ab3d-b1d558b702de",
   "metadata": {},
   "source": [
    "Resimulate tracks and plot:"
   ]
  },
  {
   "cell_type": "code",
   "execution_count": null,
   "id": "122c7304-dbd8-4664-b5fc-2b1da9442e4e",
   "metadata": {},
   "outputs": [
    {
     "data": {
      "application/vnd.jupyter.widget-view+json": {
       "model_id": "97b1e924955248ae8c7b7906643827ba",
       "version_major": 2,
       "version_minor": 0
      },
      "text/plain": [
       "  0%|          | 0/318 [00:00<?, ?it/s]"
      ]
     },
     "metadata": {},
     "output_type": "display_data"
    }
   ],
   "source": [
    "sid, year, month, m = '2022266N12294', 1992, 8, 100\n",
    "tracks_df = tr.resimulate(sid, basin, m=m)\n",
    "fig = tr.plot_tracks(tracks_df, basin, sid=sid, figsize=(12,6))"
   ]
  },
  {
   "cell_type": "markdown",
   "id": "5eafd662-a9ea-4d27-bfa8-0514a21d8ea6",
   "metadata": {},
   "source": [
    "What was the ENSO state?"
   ]
  },
  {
   "cell_type": "code",
   "execution_count": null,
   "id": "8b801c82-780b-4b0b-bdf6-74bbed8f3bdf",
   "metadata": {},
   "outputs": [],
   "source": [
    "tr.roni[(tr.roni['year']==year)&(tr.roni['month']==month)]"
   ]
  },
  {
   "cell_type": "markdown",
   "id": "96cc638f-52e8-4115-806e-cb8f2ad7cbe0",
   "metadata": {},
   "source": [
    "#### Resimulate under a strong El Nino counterfactual"
   ]
  },
  {
   "cell_type": "code",
   "execution_count": null,
   "id": "3f30feb2-a85d-47e5-ab5a-1dabf5b2dca5",
   "metadata": {},
   "outputs": [],
   "source": [
    "tracks_df = tr.resimulate(sid, basin, enso=2, m=m)\n",
    "fig = tr.plot_tracks(tracks_df, basin, sid=sid, figsize=(12,6))"
   ]
  },
  {
   "cell_type": "markdown",
   "id": "3d813406-f4fa-4531-bcc4-7967e6ab45eb",
   "metadata": {},
   "source": [
    "#### Resimulate under a strong La Nina counterfactual"
   ]
  },
  {
   "cell_type": "code",
   "execution_count": null,
   "id": "0b3eb5ea-b420-4e0b-aefc-2da4cf363dd1",
   "metadata": {},
   "outputs": [],
   "source": [
    "tracks_df = tr.resimulate(sid, basin, enso=-2, m=m)\n",
    "fig = tr.plot_tracks(tracks_df, basin, sid=sid, figsize=(12,6))"
   ]
  },
  {
   "cell_type": "markdown",
   "id": "a72e3605-f2ed-4fc6-9ec9-e5ab2358a1d6",
   "metadata": {},
   "source": [
    "#### Resimulate under 2024 SSTs counterfactual"
   ]
  },
  {
   "cell_type": "code",
   "execution_count": null,
   "id": "f190d83d-5127-49a2-a88d-3d9dda873e5a",
   "metadata": {},
   "outputs": [],
   "source": [
    "tracks_df = tr.resimulate(sid, basin, ssts=tr.ssts.sel(year=2024, month=month), m=m)\n",
    "fig = tr.plot_tracks(tracks_df, basin, sid=sid, figsize=(12,6))"
   ]
  }
 ],
 "metadata": {
  "kernelspec": {
   "display_name": "Python 3 (ipykernel)",
   "language": "python",
   "name": "python3"
  },
  "language_info": {
   "codemirror_mode": {
    "name": "ipython",
    "version": 3
   },
   "file_extension": ".py",
   "mimetype": "text/x-python",
   "name": "python",
   "nbconvert_exporter": "python",
   "pygments_lexer": "ipython3",
   "version": "3.11.6"
  }
 },
 "nbformat": 4,
 "nbformat_minor": 5
}
